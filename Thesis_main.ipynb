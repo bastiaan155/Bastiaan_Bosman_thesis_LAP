{
 "cells": [
  {
   "cell_type": "raw",
   "metadata": {
    "deletable": false,
    "editable": false,
    "jp-MarkdownHeadingCollapsed": true,
    "tags": []
   },
   "source": [
    "# Assignment 1 - Propagation Settings"
   ]
  },
  {
   "cell_type": "code",
   "execution_count": 1,
   "metadata": {
    "deletable": false
   },
   "outputs": [],
   "source": [
    "import numpy as np\n",
    "import matplotlib\n",
    "from matplotlib import pyplot as plt\n",
    "\n",
    "# Load tudatpy modules\n",
    "from tudatpy.kernel.interface import spice\n",
    "from tudatpy.kernel import numerical_simulation\n",
    "from tudatpy.kernel.numerical_simulation import environment_setup\n",
    "from tudatpy.kernel.numerical_simulation import propagation_setup\n",
    "from tudatpy.kernel.astro import element_conversion\n",
    "from tudatpy.kernel import constants\n",
    "from tudatpy.util import result2array"
   ]
  },
  {
   "cell_type": "code",
   "execution_count": 2,
   "metadata": {
    "deletable": false
   },
   "outputs": [],
   "source": [
    "# Load spice kernels\n",
    "spice.load_standard_kernels()"
   ]
  },
  {
   "cell_type": "markdown",
   "metadata": {},
   "source": [
    "## Select Modes"
   ]
  },
  {
   "cell_type": "code",
   "execution_count": 3,
   "metadata": {},
   "outputs": [],
   "source": [
    "#Case list:\n",
    "#0 = no propulsion\n",
    "#1 = Simple propulsion\n",
    "Case_id = 1\n",
    "\n",
    "\n",
    "#location list:\n",
    "#1 = Mount everest top\n",
    "#2 = Delft\n",
    "Location_id = 1\n",
    "\n",
    "#Laser list:\n",
    "#0 = No propulsion\n",
    "#1 = CO2 laser\n",
    "#2 = COIL of the YAL-1\n",
    "#99 =  brute force output test\n",
    "Laser_type_id = 2\n",
    "if Case_id ==0:\n",
    "    Laser_type_id = 0\n",
    "\n",
    "#Propellant list:\n",
    "#0 = Test surface\n",
    "#1 = PMMA\n",
    "#2 = Pyroxylin\n",
    "#3 = Aluminium\n",
    "Propellant_id = 1"
   ]
  },
  {
   "cell_type": "code",
   "execution_count": 4,
   "metadata": {},
   "outputs": [],
   "source": [
    "#Input settings:\n",
    "#time\n",
    "simulation_start_epoch = 0.0\n",
    "simulation_end_epoch = 300*constants.JULIAN_DAY \n",
    "T_step = 100 #seconds\n",
    "\n",
    "#Satellite\n",
    "Satellite_mass = 3\n",
    "Drag_area = 0.05\n",
    "Cd_sat = 1.2\n",
    "Radiation_area = 0.05\n",
    "Cd_radiation = 1.2\n",
    "\n",
    "#orbit\n",
    "Altitude = 500000\n",
    "ecc = 0\n",
    "incl = np.deg2rad(85.3)\n",
    "arg_of_peri=np.deg2rad(235.7)\n",
    "long_of_asc_node=np.deg2rad(23.4)\n",
    "true_anom=np.deg2rad(139.87)\n",
    "\n",
    "Surface_area = 100\n",
    "\n",
    "#laser\n",
    "Extinction = 0.05 #0.00000001 #km-1\n",
    "Tube_diameter = 1.8 #cm\n",
    "Tube_length = 100 #cm\n",
    "Brute_force_power = 0.00007#1e-15\n",
    "\n",
    "#Thrust\n",
    "Thrustm = 0.000007\n",
    "T_i = 100000"
   ]
  },
  {
   "cell_type": "markdown",
   "metadata": {},
   "source": [
    "## Constants"
   ]
  },
  {
   "cell_type": "code",
   "execution_count": 5,
   "metadata": {},
   "outputs": [],
   "source": [
    "r_earth = 6371008.366666666\n",
    "k = 1.380649*10**(-23) #bolzmann\n",
    "UtoKg = 1.660538782*10**(-27)\n",
    "g_0 = 9.80665"
   ]
  },
  {
   "cell_type": "markdown",
   "metadata": {},
   "source": [
    "## Propulsion function"
   ]
  },
  {
   "cell_type": "code",
   "execution_count": 6,
   "metadata": {},
   "outputs": [],
   "source": [
    "class thrust_model:\n",
    "    \n",
    "    def __init__(self, Laser_type_id, Surface_area, propagated_body,Location_id,Propellant_id):\n",
    "        self.laserstation = laser(Laser_type_id)\n",
    "        self.locationstation = location(Location_id)\n",
    "        self.propellant = Propellant(Propellant_id)\n",
    "        self.Sat= Sat(propagated_body)\n",
    "        #self.locationstation.xyz_detemination_groundstation()\n",
    "        self.Location_id = Location_id     \n",
    "        self.Surface_area = Surface_area\n",
    "        self.Isp = self.propellant.get_Isp()                           # Specific impulse [s]\n",
    "        self.propagated_body = propagated_body   # Body that is being propagated (tudatpy.numerical_simulation.environment.Body)\n",
    "        self.Propellant_id = Propellant_id\n",
    "        \n",
    "    def get_thrust_magnitude(self, time):\n",
    "        try:\n",
    "            Sat_location = self.Sat.position(time)\n",
    "        except:\n",
    "            Sat_location = [0,0,0]\n",
    "        Range = self.locationstation.Range_calculator(Sat_location)\n",
    "        Arrival_power = self.laserstation.arrival_power(Range,Extinction)\n",
    "        Laser_location = location(self.Location_id)\n",
    "        Max_range = Laser_location.Range_max()\n",
    "        if Range <= Max_range:\n",
    "            Thrustfactor = 1\n",
    "        else:\n",
    "            Thrustfactor = 0\n",
    "        Power_recieved = Thrustfactor*Arrival_power*self.Surface_area\n",
    "        if self.Propellant_id == 0:\n",
    "            Flux2thrust = 0.00001\n",
    "        elif self.Propellant_id == 1:\n",
    "            Flux2thrust = 0.00001\n",
    "        elif self.Propellant_id == 2:\n",
    "            Flux2thrust = 0.00001\n",
    "        elif self.Propellant_id == 3:\n",
    "            Flux2thrust = 0.00001\n",
    "        Thrust = Power_recieved*Flux2thrust\n",
    "        return Thrust\n",
    "    def get_Isp(self,time):\n",
    "        Isp = self.Isp\n",
    "        return Isp"
   ]
  },
  {
   "cell_type": "markdown",
   "metadata": {},
   "source": [
    "## Rotation Model"
   ]
  },
  {
   "cell_type": "code",
   "execution_count": null,
   "metadata": {},
   "outputs": [],
   "source": []
  },
  {
   "cell_type": "markdown",
   "metadata": {},
   "source": [
    "## Create laser and location classes"
   ]
  },
  {
   "cell_type": "code",
   "execution_count": 7,
   "metadata": {},
   "outputs": [],
   "source": [
    "##Position of laser system\n",
    "class Sat:\n",
    "    def __init__(self,propagated_body):\n",
    "        self.propagated_body = propagated_body\n",
    "    def position(self,time):\n",
    "        position = [self.propagated_body.state[0],self.propagated_body.state[1],self.propagated_body.state[2]]\n",
    "        return position\n",
    "    \n",
    "    \n",
    "    \n",
    "    \n",
    "class location:\n",
    "    def __init__(self, Location_id):\n",
    "        self.Location_id = Location_id\n",
    "        if self.Location_id == 1:\n",
    "            self.Laser_system_altitude = 8849\n",
    "            self.Laser_system_latitude = np.deg2rad(27.9881)\n",
    "            self.Laser_system_longitude = np.deg2rad(86.9250)\n",
    "        elif self.Location_id == 2:\n",
    "            self.Laser_system_altitude = 0\n",
    "            self.Laser_system_latitude = np.deg2rad(52.00667)\n",
    "            self.Laser_system_longitude = np.deg2rad(4.35556)\n",
    "    def xyz_detemination_groundstation(self):\n",
    "        x_laser = (r_earth+self.Laser_system_altitude)* np.sin(self.Laser_system_latitude)* np.cos(self.Laser_system_longitude)\n",
    "        y_laser = (r_earth+self.Laser_system_altitude)* np.sin(self.Laser_system_latitude)* np.sin(self.Laser_system_longitude)\n",
    "        z_laser = (r_earth+self.Laser_system_altitude)* np.cos(self.Laser_system_latitude)\n",
    "        self.Location = [x_laser,y_laser,z_laser]\n",
    "        return self.Location\n",
    "    def Range_calculator(self,Sat_location):\n",
    "        gs_location = self.xyz_detemination_groundstation()\n",
    "        difference_x = gs_location[0]-Sat_location[0]\n",
    "        difference_y = gs_location[1]-Sat_location[1]\n",
    "        difference_z = gs_location[2]-Sat_location[2]\n",
    "        xyz = [difference_x,difference_y,difference_z]\n",
    "        Range = np.linalg.norm(xyz)\n",
    "        return Range\n",
    "    def Range_max(self):\n",
    "        Max_range = (np.sqrt((r_earth+Altitude)**2-(r_earth+self.Laser_system_altitude)**2))\n",
    "        return Max_range\n",
    "    \n",
    "##Laser power\n",
    "class laser:\n",
    "    def __init__(self,Laser_type_id):\n",
    "        self.Laser_type_id = Laser_type_id\n",
    "        \n",
    "    def output_power(self):\n",
    "        if self.Laser_type_id == 0:\n",
    "            output_power = 0\n",
    "        elif self.Laser_type_id == 1:\n",
    "            Laser_output_power_per_cm2 = 1.2E-5 #W/cm2 https://www.laserfocusworld.com/lasers-sources/article/16547243/carbon-dioxide-lasers-deliver-flexibility-and-power\n",
    "            Tube_area = Tube_diameter*Tube_length \n",
    "            output_power = Laser_output_power_per_cm2*Tube_area\n",
    "        elif self.Laser_type_id ==2:\n",
    "            output_power = 200.\n",
    "    \n",
    "        elif self.Laser_type_id == 99:\n",
    "            output_power = Brute_force_power\n",
    "        Laser_output_power = output_power\n",
    "        return Laser_output_power\n",
    "    def arrival_power(self,Range,extinction):\n",
    "        arrival_power = self.output_power()*(1.-extinction)**(100)\n",
    "        \n",
    "        return arrival_power \n",
    "class Propellant:\n",
    "    def __init__(self, Propellant_id):\n",
    "        self.Propellant_id = Propellant_id\n",
    "        if Propellant_id == 0:\n",
    "            self.ion_mass = 1\n",
    "        elif Propellant_id == 1:\n",
    "            self.ion_mass = 350\n",
    "        elif Propellant_id == 2:\n",
    "            self.ion_mass = 504.3\n",
    "        elif Propellant_id == 3:\n",
    "            self.ion_mass = 26.981539\n",
    "    def get_Isp(self):\n",
    "        if self.Propellant_id == 0:\n",
    "            Isp = 350\n",
    "        else:\n",
    "            M_i = self.ion_mass*UtoKg\n",
    "            Isp = np.sqrt(2*k*T_i/M_i)/g_0\n",
    "            return Isp\n",
    "        \n",
    "    "
   ]
  },
  {
   "cell_type": "markdown",
   "metadata": {},
   "source": [
    "## Create ablative surface settings"
   ]
  },
  {
   "cell_type": "code",
   "execution_count": null,
   "metadata": {},
   "outputs": [],
   "source": [
    "\n"
   ]
  },
  {
   "cell_type": "markdown",
   "metadata": {
    "deletable": false,
    "editable": false
   },
   "source": [
    "## Create environment, vehicle, accelerations, and propagation settings"
   ]
  },
  {
   "cell_type": "code",
   "execution_count": 8,
   "metadata": {
    "deletable": false
   },
   "outputs": [],
   "source": [
    "###########################################################################\n",
    "# CREATE ENVIRONMENT ######################################################\n",
    "###########################################################################\n",
    "# Define string names for bodies to be created from default.\n",
    "bodies_to_create = [\"Sun\", \"Earth\", \"Moon\", \"Mars\", \"Venus\"]\n",
    "\n",
    "# Use \"Earth\"/\"J2000\" as global frame origin and orientation.\n",
    "global_frame_origin = \"Earth\"\n",
    "global_frame_orientation = \"J2000\"\n",
    "\n",
    "# Create default body settings, usually from `spice`.\n",
    "body_settings = environment_setup.get_default_body_settings(\n",
    "    bodies_to_create,\n",
    "    global_frame_origin,\n",
    "    global_frame_orientation)\n",
    "\n",
    "# Create system of selected celestial bodies\n",
    "bodies = environment_setup.create_system_of_bodies(body_settings)\n",
    "\n",
    "bodies.create_empty_body( \"Sat\" )\n",
    "\n",
    "bodies.get(\"Sat\").mass = Satellite_mass\n",
    "\n",
    "# Define the thrust magnitude as constant\n",
    "# thrust_magnitude_settings = (\n",
    "#     propagation_setup.thrust.custom_thrust_magnitude(thrust_magnitude_function, specific_impulse))\n",
    "\n",
    "#Aerodynamics\n",
    "reference_area = Drag_area\n",
    "drag_coefficient = Cd_sat\n",
    "aero_coefficient_settings = environment_setup.aerodynamic_coefficients.constant(\n",
    "    reference_area, [drag_coefficient, 0, 0]\n",
    ")\n",
    "environment_setup.add_aerodynamic_coefficient_interface(\n",
    "    bodies, \"Sat\", aero_coefficient_settings)\n",
    "\n",
    "\n",
    "#radiation pressure\n",
    "reference_area_radiation = Radiation_area\n",
    "radiation_pressure_coefficient = Cd_radiation\n",
    "occulting_bodies = [\"Earth\"]\n",
    "radiation_pressure_settings = environment_setup.radiation_pressure.cannonball(\n",
    "    \"Sun\", reference_area_radiation, radiation_pressure_coefficient, occulting_bodies\n",
    ")\n",
    "environment_setup.add_radiation_pressure_interface(\n",
    "    bodies, \"Sat\", radiation_pressure_settings)\n",
    "\n",
    "\n",
    "\n",
    "bodies_to_propagate = [\"Sat\"]\n",
    "\n",
    "central_bodies = [\"Earth\"]\n",
    "\n",
    "#Propulsion element\n",
    "rotation_model_settings = environment_setup.rotation_model.orbital_state_direction_based(\n",
    "    'Earth',\n",
    "    True,\n",
    "    False,\n",
    "    \"J2000\",\n",
    "    \"VehicleFixed\")\n",
    "environment_setup.add_rotation_model( bodies, 'Sat', rotation_model_settings )\n",
    "\n",
    "thrust_model = thrust_model(Laser_type_id, Surface_area, bodies.get('Sat'),Location_id,Propellant_id)\n",
    "thrust_magnitude_settings = propagation_setup.thrust.custom_thrust_magnitude(\n",
    "    thrust_model.get_thrust_magnitude,\n",
    "    thrust_model.get_Isp)#,True)\n",
    "\n",
    "environment_setup.add_engine_model(\n",
    "    'Sat', 'MainEngine', thrust_magnitude_settings, bodies)\n",
    "\n",
    "accelerations_settings_delfi_c3 = dict(\n",
    "    Sat=[\n",
    "        propagation_setup.acceleration.thrust_from_engine('MainEngine')\n",
    "    ],\n",
    "    Sun=\n",
    "    [\n",
    "        propagation_setup.acceleration.cannonball_radiation_pressure(),\n",
    "        propagation_setup.acceleration.point_mass_gravity()\n",
    "    ],\n",
    "    Earth=\n",
    "    [\n",
    "        propagation_setup.acceleration.spherical_harmonic_gravity(5, 5),\n",
    "        propagation_setup.acceleration.aerodynamic()\n",
    "    ],\n",
    "    Moon=\n",
    "    [\n",
    "        propagation_setup.acceleration.point_mass_gravity()\n",
    "    ],\n",
    "    Mars=\n",
    "    [\n",
    "        propagation_setup.acceleration.point_mass_gravity()\n",
    "    ],\n",
    "    Venus=\n",
    "    [\n",
    "        propagation_setup.acceleration.point_mass_gravity()\n",
    "    ]\n",
    ")\n",
    "\n",
    "acceleration_settings = {\"Sat\": accelerations_settings_delfi_c3}\n",
    "\n",
    "acceleration_models = propagation_setup.create_acceleration_models(\n",
    "    bodies,\n",
    "    acceleration_settings,\n",
    "    bodies_to_propagate,\n",
    "    central_bodies\n",
    ")\n",
    "\n",
    "earth_gravitational_parameter = bodies.get(\"Earth\").gravitational_parameter\n",
    "initial_state = element_conversion.keplerian_to_cartesian_elementwise(\n",
    "    gravitational_parameter=earth_gravitational_parameter,\n",
    "    semi_major_axis= bodies.get(\"Earth\").shape_model.average_radius + Altitude,\n",
    "    eccentricity=ecc,\n",
    "    inclination=incl,\n",
    "    argument_of_periapsis=arg_of_peri,\n",
    "    longitude_of_ascending_node=long_of_asc_node,\n",
    "    true_anomaly=true_anom,\n",
    ")\n",
    "\n",
    "# Define list of dependent variables to save\n",
    "dependent_variables_to_save = [\n",
    "    propagation_setup.dependent_variable.total_acceleration(\"Sat\"),\n",
    "    propagation_setup.dependent_variable.keplerian_state(\"Sat\", \"Earth\"),\n",
    "    propagation_setup.dependent_variable.latitude(\"Sat\", \"Earth\"),\n",
    "    propagation_setup.dependent_variable.longitude(\"Sat\", \"Earth\"),\n",
    "    propagation_setup.dependent_variable.single_acceleration_norm(\n",
    "        propagation_setup.acceleration.point_mass_gravity_type, \"Sat\", \"Sun\"\n",
    "    ),\n",
    "    propagation_setup.dependent_variable.single_acceleration_norm(\n",
    "        propagation_setup.acceleration.point_mass_gravity_type, \"Sat\", \"Moon\"\n",
    "    ),\n",
    "    propagation_setup.dependent_variable.single_acceleration_norm(\n",
    "        propagation_setup.acceleration.point_mass_gravity_type, \"Sat\", \"Mars\"\n",
    "    ),\n",
    "    propagation_setup.dependent_variable.single_acceleration_norm(\n",
    "        propagation_setup.acceleration.point_mass_gravity_type, \"Sat\", \"Venus\"\n",
    "    ),\n",
    "    propagation_setup.dependent_variable.single_acceleration_norm(\n",
    "        propagation_setup.acceleration.spherical_harmonic_gravity_type, \"Sat\", \"Earth\"\n",
    "    ),\n",
    "    propagation_setup.dependent_variable.single_acceleration_norm(\n",
    "        propagation_setup.acceleration.aerodynamic_type, \"Sat\", \"Earth\"\n",
    "    ),\n",
    "    propagation_setup.dependent_variable.single_acceleration_norm(\n",
    "        propagation_setup.acceleration.cannonball_radiation_pressure_type, \"Sat\", \"Sun\"\n",
    "    ),\n",
    "    propagation_setup.dependent_variable.central_body_fixed_cartesian_position('Sat', 'Earth'\n",
    "    ),\n",
    "    propagation_setup.dependent_variable.single_acceleration_norm(\n",
    "        propagation_setup.acceleration.thrust_from_engine_type, \"Sat\", \"Sat\"\n",
    "    ),\n",
    "    \n",
    "]"
   ]
  },
  {
   "cell_type": "code",
   "execution_count": 9,
   "metadata": {},
   "outputs": [],
   "source": [
    "r_earth = bodies.get(\"Earth\").shape_model.average_radius"
   ]
  },
  {
   "cell_type": "markdown",
   "metadata": {
    "deletable": false,
    "editable": false
   },
   "source": [
    "## Propagate Orbit"
   ]
  },
  {
   "cell_type": "code",
   "execution_count": 10,
   "metadata": {
    "deletable": false
   },
   "outputs": [],
   "source": [
    "# Create termination settings\n",
    "termination_condition = propagation_setup.propagator.time_termination(simulation_end_epoch)\n",
    "\n",
    "# Create propagation settings\n",
    "propagator_settings = propagation_setup.propagator.translational(\n",
    "    central_bodies,\n",
    "    acceleration_models,\n",
    "    bodies_to_propagate,\n",
    "    initial_state,\n",
    "    termination_condition,\n",
    "    output_variables=dependent_variables_to_save\n",
    ")\n",
    "\n",
    "# Create numerical integrator settings\n",
    "fixed_step_size = T_step\n",
    "integrator_settings = propagation_setup.integrator.runge_kutta_4(\n",
    "    simulation_start_epoch, fixed_step_size\n",
    ")\n",
    "\n",
    "\n",
    "\n",
    "\n",
    "# Create simulation object and propagate the dynamics\n",
    "dynamics_simulator = numerical_simulation.SingleArcSimulator(\n",
    "    bodies, integrator_settings, propagator_settings\n",
    ")\n",
    "\n",
    "# Extract the resulting state and depedent variable history and convert it to an ndarray\n",
    "states = dynamics_simulator.state_history\n",
    "states_array = result2array(states)\n",
    "dep_vars = dynamics_simulator.dependent_variable_history\n",
    "dep_vars_array = result2array(dep_vars)\n",
    "\n",
    "#Dependent variables being saved, output vectors contain: \n",
    "#Vector entry, Vector contents\n",
    "#0, Total acceleration in inertial frame of Sat\n",
    "#3, Kepler elements of Sat w.r.t. Earth\n",
    "#9, Spherical position angle latitude angle of Sat w.r.t. Earth\n",
    "#10, Spherical position angle longitude angle of Sat w.r.t. Earth\n",
    "#11, Single acceleration norm of type central gravity , acting on Sat, exerted by Sun\n",
    "#12, Single acceleration norm of type central gravity , acting on Sat, exerted by Moon\n",
    "#13, Single acceleration norm of type central gravity , acting on Sat, exerted by Mars\n",
    "#14, Single acceleration norm of type central gravity , acting on Sat, exerted by Venus\n",
    "#15, Single acceleration norm of type spherical harmonic gravity , acting on Sat, exerted by Earth\n",
    "#16, Single acceleration norm of type aerodynamic , acting on Sat, exerted by Earth\n",
    "#17, Single acceleration norm of type cannonball radiation pressure , acting on Sat, exerted by Sun\n",
    "#18, Cartesian coordinates of Sat wrt Earth center"
   ]
  },
  {
   "cell_type": "markdown",
   "metadata": {},
   "source": [
    "## Laser calculations"
   ]
  },
  {
   "cell_type": "code",
   "execution_count": 11,
   "metadata": {},
   "outputs": [],
   "source": [
    "#determine flux and sight\n",
    "Cartesian_elements = dep_vars_array[:,19:22] \n"
   ]
  },
  {
   "cell_type": "markdown",
   "metadata": {
    "deletable": false,
    "editable": false
   },
   "source": [
    "## Print final propagation time and state"
   ]
  },
  {
   "cell_type": "code",
   "execution_count": 12,
   "metadata": {
    "deletable": false
   },
   "outputs": [],
   "source": [
    "###########################################################################\n",
    "# PRINT FINAL PROPAGATION TIME AND STATE ##################################\n",
    "###########################################################################\n",
    "\n"
   ]
  },
  {
   "cell_type": "markdown",
   "metadata": {
    "deletable": false,
    "editable": false
   },
   "source": [
    "## Save Results"
   ]
  },
  {
   "cell_type": "code",
   "execution_count": null,
   "metadata": {
    "deletable": false
   },
   "outputs": [],
   "source": []
  },
  {
   "cell_type": "markdown",
   "metadata": {
    "deletable": false,
    "editable": false
   },
   "source": [
    "## Plot Results\n",
    "\n",
    "For inspiration see: \n",
    "\n",
    "https://tudat-space.readthedocs.io/en/latest/_src_first_steps/simulations/example_application_2.html#visualize-results"
   ]
  },
  {
   "cell_type": "markdown",
   "metadata": {
    "deletable": false
   },
   "source": [
    "## Save and load results\n"
   ]
  },
  {
   "cell_type": "code",
   "execution_count": 13,
   "metadata": {},
   "outputs": [],
   "source": [
    "kepler_elements = dep_vars_array[:,4:10]\n",
    "time_hours = dep_vars_array[:,0]/3600\n",
    "time_days = time_hours/24\n",
    "Results = kepler_elements[:,0] / 1e3\n",
    "np.savetxt('Case'+str(Case_id)+'results.txt',Results,delimiter=',')\n",
    "np.savetxt('Case'+str(Case_id)+'time.txt',time_days,delimiter=',')\n",
    "\n",
    "if Case_id == 0:\n",
    "    Case_0 = Results\n",
    "    Time_0 = time_days\n",
    "    Case_1 = np.loadtxt(\"./Case1results.txt\", delimiter = \",\")\n",
    "    Time_1 = np.loadtxt(\"./Case1time.txt\", delimiter = \",\")\n",
    "if Case_id == 1:\n",
    "    Case_0 = np.loadtxt(\"./Case0results.txt\", delimiter = \",\")\n",
    "    Time_0 = np.loadtxt(\"./Case0time.txt\", delimiter = \",\")\n",
    "    Case_1 = Results\n",
    "    Time_1 = time_days\n"
   ]
  },
  {
   "cell_type": "code",
   "execution_count": 14,
   "metadata": {},
   "outputs": [
    {
     "data": {
      "text/plain": [
       "Text(0.5, 0, 'Time [days]')"
      ]
     },
     "execution_count": 14,
     "metadata": {},
     "output_type": "execute_result"
    },
    {
     "data": {
      "image/png": "[encoded data removed]",
      "text/plain": [
       "<Figure size 2000x1000 with 2 Axes>"
      ]
     },
     "metadata": {},
     "output_type": "display_data"
    }
   ],
   "source": [
    "\n",
    "fig, ((ax1),(ax2)) = plt.subplots(2, 1, figsize=(20, 10))\n",
    "fig.suptitle('Evolution of Kepler elements over the course of the propagation.')\n",
    "\n",
    "# Semi-major Axis\n",
    "semi_major_axis = kepler_elements[:,0] / 1e3\n",
    "ax1.plot(Time_0, Case_0)\n",
    "ax1.plot(Time_1, Case_1)\n",
    "ax1.axhline(y= (r_earth+Altitude)/1000, xmin=0,xmax=1,c=\"red\",linewidth=0.5,zorder=0)\n",
    "ax1.axhline(y= (r_earth)/1000, xmin=0,xmax=1,c=\"green\",linewidth=0.5,zorder=0)\n",
    "#ax1.set_ylim([r_earth/1000-100, (r_earth+2*Altitude)/1000])\n",
    "ax1.set_ylabel('Semi-major axis [km]')\n",
    "ax1.set_xlabel('Time [days]')\n",
    "\n",
    "accelerations = np.sqrt(dep_vars_array[:,3]**2+dep_vars_array[:,1]**2+dep_vars_array[:,2]**2)\n",
    "\n",
    "ax2.plot(Time_1, accelerations)\n",
    "ax2.set_ylabel('Acceleration[m/s]')\n",
    "ax2.set_xlabel('Time [days]')"
   ]
  },
  {
   "cell_type": "code",
   "execution_count": 15,
   "metadata": {},
   "outputs": [],
   "source": [
    "# # Plot Kepler elements as a function of time\n",
    "# kepler_elements = dep_vars_array[:,4:10]\n",
    "# fig, ((ax1, ax2), (ax3, ax4), (ax5, ax6),(ax7, ax8),(ax9, ax10),(ax11, ax12)) = plt.subplots(6, 2, figsize=(20, 17))\n",
    "# fig.suptitle('Evolution of Kepler elements over the course of the propagation.')\n",
    "\n",
    "# # Semi-major Axis\n",
    "# semi_major_axis = kepler_elements[:,0] / 1e3\n",
    "# ax1.plot(time_days, semi_major_axis)\n",
    "# ax1.axhline(y= (r_earth+Altitude)/1000, xmin=0,xmax=1,c=\"red\",linewidth=0.5,zorder=0)\n",
    "# ax1.set_ylim([r_earth/1000, (r_earth+2*Altitude)/1000])\n",
    "# ax1.set_ylabel('Semi-major axis [km]')\n",
    "\n",
    "# # Eccentricity\n",
    "# eccentricity = kepler_elements[:,1]\n",
    "# ax2.plot(time_days, eccentricity)\n",
    "# ax2.set_ylabel('Eccentricity [-]')\n",
    "\n",
    "# # Inclination\n",
    "# inclination = np.rad2deg(kepler_elements[:,2])\n",
    "# ax3.plot(time_days, inclination)\n",
    "# ax3.set_ylabel('Inclination [deg]')\n",
    "\n",
    "# # Argument of Periapsis\n",
    "# argument_of_periapsis = np.rad2deg(kepler_elements[:,3])\n",
    "# ax4.plot(time_days, argument_of_periapsis)\n",
    "# ax4.set_ylabel('Argument of Periapsis [deg]')\n",
    "\n",
    "# # Right Ascension of the Ascending Node\n",
    "# raan = np.rad2deg(kepler_elements[:,4])\n",
    "# ax5.plot(time_days, raan)\n",
    "# ax5.set_ylabel('RAAN [deg]')\n",
    "\n",
    "# # True Anomaly\n",
    "# true_anomaly = np.rad2deg(kepler_elements[:,5])\n",
    "# ax6.scatter(time_days, true_anomaly, s=1)\n",
    "# ax6.set_ylabel('True Anomaly [deg]')\n",
    "# ax6.set_yticks(np.arange(0, 361, step=60))\n",
    "\n",
    "# # X,Y,Z, of sat\n",
    "# Xcoorofsat = (Cartesian_elements[:,0])\n",
    "# Ycoorofsat = (Cartesian_elements[:,1])\n",
    "# Zcoorofsat = (Cartesian_elements[:,2])\n",
    "# #ax7.plot(time_days, Xcoorofsat)\n",
    "# #ax7.plot(time_days, Ycoorofsat)\n",
    "# #ax7.plot(time_days, Zcoorofsat)\n",
    "# ax7.plot(time_days, np.sqrt(Zcoorofsat**2 + Ycoorofsat**2 + Xcoorofsat**2)/1000)\n",
    "# ax7.set_ylabel('XYZ')\n",
    "\n",
    "# ax8.plot(time_days, Range/1000)\n",
    "# ax8.axhline(y= Range_max/1000, xmin=0,xmax=1,c=\"red\",linewidth=0.5,zorder=0)\n",
    "# ax8.set_ylabel('Range with laser')\n",
    "\n",
    "# ax9.plot(time_days, On_Off_lst)\n",
    "\n",
    "# ax9.set_ylabel('On or Off')\n",
    "\n",
    "\n",
    "\n",
    "# for ax in fig.get_axes():\n",
    "#     ax.set_xlabel('Time [day]')\n",
    "#     ax.set_xlim([min(time_days), max(time_days)])\n",
    "#     ax.grid()\n",
    "# plt.tight_layout()"
   ]
  },
  {
   "cell_type": "code",
   "execution_count": 16,
   "metadata": {},
   "outputs": [],
   "source": [
    "# plt.figure(figsize=(17, 5))\n",
    "\n",
    "# # Point Mass Gravity Acceleration Sun\n",
    "# acceleration_norm_pm_sun = dep_vars_array[:,12]\n",
    "# plt.plot(time_days, acceleration_norm_pm_sun, label='PM Sun')\n",
    "\n",
    "# # Point Mass Gravity Acceleration Moon\n",
    "# acceleration_norm_pm_moon = dep_vars_array[:,13]\n",
    "# plt.plot(time_days, acceleration_norm_pm_moon, label='PM Moon')\n",
    "\n",
    "# # Point Mass Gravity Acceleration Mars\n",
    "# acceleration_norm_pm_mars = dep_vars_array[:,14]\n",
    "# plt.plot(time_days, acceleration_norm_pm_mars, label='PM Mars')\n",
    "\n",
    "# # Point Mass Gravity Acceleration Venus\n",
    "# acceleration_norm_pm_venus = dep_vars_array[:,15]\n",
    "# plt.plot(time_days, acceleration_norm_pm_venus, label='PM Venus')\n",
    "\n",
    "# # Spherical Harmonic Gravity Acceleration Earth\n",
    "# acceleration_norm_sh_earth = dep_vars_array[:,16]\n",
    "# plt.plot(time_days, acceleration_norm_sh_earth, label='SH Earth')\n",
    "\n",
    "# # Aerodynamic Acceleration Earth\n",
    "# acceleration_norm_aero_earth = dep_vars_array[:,17]\n",
    "# plt.plot(time_days, acceleration_norm_aero_earth, label='Aerodynamic Earth')\n",
    "\n",
    "# # Cannonball Radiation Pressure Acceleration Sun\n",
    "# acceleration_norm_rp_sun = dep_vars_array[:,18]\n",
    "# plt.plot(time_days, acceleration_norm_rp_sun, label='Radiation Pressure Sun')\n",
    "\n",
    "\n",
    "# plt.title(\"Accelerations norms on Sat, distinguished by type and origin, over the course of propagation.\")\n",
    "# plt.xlim([min(time_days), max(time_days)])\n",
    "# plt.xlabel('Time [hr]')\n",
    "# plt.ylabel('Acceleration Norm [m/s$^2$]')\n",
    "\n",
    "# plt.legend(bbox_to_anchor=(1.005, 1))\n",
    "# plt.yscale('log')\n",
    "# plt.grid()\n",
    "# plt.tight_layout()"
   ]
  },
  {
   "cell_type": "code",
   "execution_count": null,
   "metadata": {},
   "outputs": [],
   "source": []
  }
 ],
 "metadata": {
  "celltoolbar": "Edit Metadata",
  "kernelspec": {
   "display_name": "Python 3 (ipykernel)",
   "language": "python",
   "name": "python3"
  },
  "language_info": {
   "codemirror_mode": {
    "name": "ipython",
    "version": 3
   },
   "file_extension": ".py",
   "mimetype": "text/x-python",
   "name": "python",
   "nbconvert_exporter": "python",
   "pygments_lexer": "ipython3",
   "version": "3.10.6"
  }
 },
 "nbformat": 4,
 "nbformat_minor": 4
}
